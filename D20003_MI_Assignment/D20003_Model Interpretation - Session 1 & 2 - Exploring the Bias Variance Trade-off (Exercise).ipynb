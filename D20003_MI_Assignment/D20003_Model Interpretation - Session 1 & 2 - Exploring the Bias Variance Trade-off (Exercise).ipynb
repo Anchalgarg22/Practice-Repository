{
 "cells": [
  {
   "cell_type": "markdown",
   "metadata": {},
   "source": [
    "### Assignment 1 - Model Interpretation\n",
    "#### Anchal Garg (D20003)"
   ]
  },
  {
   "cell_type": "markdown",
   "metadata": {},
   "source": [
    "## Model Interpretation - Exploring the Bias Variance Trade-off"
   ]
  },
  {
   "cell_type": "markdown",
   "metadata": {},
   "source": [
    "### Objective:\n",
    "\n",
    "Exploring the bias-variance trade-off.......\n",
    "\n",
    "* **Part A: Overfitting in Linear Regression** .....\n",
    "\n",
    "* **Part B: Overfitting in Decision Tree** ....."
   ]
  },
  {
   "cell_type": "markdown",
   "metadata": {},
   "source": [
    "### A. Fitting a Linear Regression Line (Example)"
   ]
  },
  {
   "cell_type": "code",
   "execution_count": 61,
   "metadata": {},
   "outputs": [],
   "source": [
    "import numpy as np\n",
    "import pandas as pd\n",
    "import matplotlib.pyplot as plt\n",
    "\n",
    "from sklearn.linear_model import LinearRegression\n",
    "from sklearn.metrics import mean_squared_error, r2_score\n",
    "from sklearn.preprocessing import PolynomialFeatures\n",
    "\n",
    "pd.set_option('display.max_columns',50)"
   ]
  },
  {
   "cell_type": "code",
   "execution_count": 62,
   "metadata": {},
   "outputs": [
    {
     "data": {
      "text/html": [
       "<div>\n",
       "<style scoped>\n",
       "    .dataframe tbody tr th:only-of-type {\n",
       "        vertical-align: middle;\n",
       "    }\n",
       "\n",
       "    .dataframe tbody tr th {\n",
       "        vertical-align: top;\n",
       "    }\n",
       "\n",
       "    .dataframe thead th {\n",
       "        text-align: right;\n",
       "    }\n",
       "</style>\n",
       "<table border=\"1\" class=\"dataframe\">\n",
       "  <thead>\n",
       "    <tr style=\"text-align: right;\">\n",
       "      <th></th>\n",
       "      <th>id</th>\n",
       "      <th>date</th>\n",
       "      <th>price</th>\n",
       "      <th>bedrooms</th>\n",
       "      <th>bathrooms</th>\n",
       "      <th>sqft_living</th>\n",
       "      <th>sqft_lot</th>\n",
       "      <th>floors</th>\n",
       "      <th>waterfront</th>\n",
       "      <th>view</th>\n",
       "      <th>condition</th>\n",
       "      <th>grade</th>\n",
       "      <th>sqft_above</th>\n",
       "      <th>sqft_basement</th>\n",
       "      <th>yr_built</th>\n",
       "      <th>yr_renovated</th>\n",
       "      <th>zipcode</th>\n",
       "      <th>lat</th>\n",
       "      <th>long</th>\n",
       "      <th>sqft_living15</th>\n",
       "      <th>sqft_lot15</th>\n",
       "    </tr>\n",
       "  </thead>\n",
       "  <tbody>\n",
       "    <tr>\n",
       "      <th>0</th>\n",
       "      <td>2487200875</td>\n",
       "      <td>20141209T000000</td>\n",
       "      <td>604000.0</td>\n",
       "      <td>4</td>\n",
       "      <td>3.0</td>\n",
       "      <td>1960</td>\n",
       "      <td>5000</td>\n",
       "      <td>1.0</td>\n",
       "      <td>0</td>\n",
       "      <td>0</td>\n",
       "      <td>5</td>\n",
       "      <td>7</td>\n",
       "      <td>1050</td>\n",
       "      <td>910</td>\n",
       "      <td>1965</td>\n",
       "      <td>0</td>\n",
       "      <td>98136</td>\n",
       "      <td>47.5208</td>\n",
       "      <td>-122.393</td>\n",
       "      <td>1360</td>\n",
       "      <td>5000</td>\n",
       "    </tr>\n",
       "    <tr>\n",
       "      <th>1</th>\n",
       "      <td>7237550310</td>\n",
       "      <td>20140512T000000</td>\n",
       "      <td>1225000.0</td>\n",
       "      <td>4</td>\n",
       "      <td>4.5</td>\n",
       "      <td>5420</td>\n",
       "      <td>101930</td>\n",
       "      <td>1.0</td>\n",
       "      <td>0</td>\n",
       "      <td>0</td>\n",
       "      <td>3</td>\n",
       "      <td>11</td>\n",
       "      <td>3890</td>\n",
       "      <td>1530</td>\n",
       "      <td>2001</td>\n",
       "      <td>0</td>\n",
       "      <td>98053</td>\n",
       "      <td>47.6561</td>\n",
       "      <td>-122.005</td>\n",
       "      <td>4760</td>\n",
       "      <td>101930</td>\n",
       "    </tr>\n",
       "    <tr>\n",
       "      <th>2</th>\n",
       "      <td>9212900260</td>\n",
       "      <td>20140527T000000</td>\n",
       "      <td>468000.0</td>\n",
       "      <td>2</td>\n",
       "      <td>1.0</td>\n",
       "      <td>1160</td>\n",
       "      <td>6000</td>\n",
       "      <td>1.0</td>\n",
       "      <td>0</td>\n",
       "      <td>0</td>\n",
       "      <td>4</td>\n",
       "      <td>7</td>\n",
       "      <td>860</td>\n",
       "      <td>300</td>\n",
       "      <td>1942</td>\n",
       "      <td>0</td>\n",
       "      <td>98115</td>\n",
       "      <td>47.6900</td>\n",
       "      <td>-122.292</td>\n",
       "      <td>1330</td>\n",
       "      <td>6000</td>\n",
       "    </tr>\n",
       "  </tbody>\n",
       "</table>\n",
       "</div>"
      ],
      "text/plain": [
       "           id             date      price  bedrooms  bathrooms  sqft_living  \\\n",
       "0  2487200875  20141209T000000   604000.0         4        3.0         1960   \n",
       "1  7237550310  20140512T000000  1225000.0         4        4.5         5420   \n",
       "2  9212900260  20140527T000000   468000.0         2        1.0         1160   \n",
       "\n",
       "   sqft_lot  floors  waterfront  view  condition  grade  sqft_above  \\\n",
       "0      5000     1.0           0     0          5      7        1050   \n",
       "1    101930     1.0           0     0          3     11        3890   \n",
       "2      6000     1.0           0     0          4      7         860   \n",
       "\n",
       "   sqft_basement  yr_built  yr_renovated  zipcode      lat     long  \\\n",
       "0            910      1965             0    98136  47.5208 -122.393   \n",
       "1           1530      2001             0    98053  47.6561 -122.005   \n",
       "2            300      1942             0    98115  47.6900 -122.292   \n",
       "\n",
       "   sqft_living15  sqft_lot15  \n",
       "0           1360        5000  \n",
       "1           4760      101930  \n",
       "2           1330        6000  "
      ]
     },
     "execution_count": 62,
     "metadata": {},
     "output_type": "execute_result"
    }
   ],
   "source": [
    "data = pd.read_csv('C:\\Praxis\\Term-3\\MI\\Assignment_Dataset\\wk3_kc_house_train_data.csv')\n",
    "data.head(3)"
   ]
  },
  {
   "cell_type": "code",
   "execution_count": 63,
   "metadata": {},
   "outputs": [],
   "source": [
    "data = data.sort_values(['sqft_living','price'])"
   ]
  },
  {
   "cell_type": "code",
   "execution_count": 8,
   "metadata": {},
   "outputs": [
    {
     "data": {
      "text/plain": [
       "id               0\n",
       "date             0\n",
       "price            0\n",
       "bedrooms         0\n",
       "bathrooms        0\n",
       "sqft_living      0\n",
       "sqft_lot         0\n",
       "floors           0\n",
       "waterfront       0\n",
       "view             0\n",
       "condition        0\n",
       "grade            0\n",
       "sqft_above       0\n",
       "sqft_basement    0\n",
       "yr_built         0\n",
       "yr_renovated     0\n",
       "zipcode          0\n",
       "lat              0\n",
       "long             0\n",
       "sqft_living15    0\n",
       "sqft_lot15       0\n",
       "dtype: int64"
      ]
     },
     "execution_count": 8,
     "metadata": {},
     "output_type": "execute_result"
    }
   ],
   "source": [
    "data.isnull().sum() #no null values"
   ]
  },
  {
   "cell_type": "code",
   "execution_count": 9,
   "metadata": {},
   "outputs": [],
   "source": [
    "#defined X and y for our model\n",
    "\n",
    "X = data[['sqft_living']] #taking square feet living variable as x (independent variable) for regression line\n",
    "y = data[['price']]  "
   ]
  },
  {
   "cell_type": "code",
   "execution_count": 10,
   "metadata": {},
   "outputs": [],
   "source": [
    "linear = LinearRegression()"
   ]
  },
  {
   "cell_type": "code",
   "execution_count": 11,
   "metadata": {},
   "outputs": [
    {
     "data": {
      "text/plain": [
       "LinearRegression()"
      ]
     },
     "execution_count": 11,
     "metadata": {},
     "output_type": "execute_result"
    }
   ],
   "source": [
    "linear.fit(X,y)"
   ]
  },
  {
   "cell_type": "code",
   "execution_count": 12,
   "metadata": {},
   "outputs": [
    {
     "name": "stdout",
     "output_type": "stream",
     "text": [
      "Coefficient is: [[288.59846375]]\n"
     ]
    }
   ],
   "source": [
    "print(\"Coefficient is:\",linear.coef_)   #coefficient of regression line"
   ]
  },
  {
   "cell_type": "code",
   "execution_count": 13,
   "metadata": {},
   "outputs": [
    {
     "data": {
      "text/plain": [
       "array([-59493.31716521])"
      ]
     },
     "execution_count": 13,
     "metadata": {},
     "output_type": "execute_result"
    }
   ],
   "source": [
    "linear.intercept_  #intercept of regression line"
   ]
  },
  {
   "cell_type": "code",
   "execution_count": 14,
   "metadata": {},
   "outputs": [],
   "source": [
    "y_pred = linear.predict(X)  #predicting using linear model"
   ]
  },
  {
   "cell_type": "code",
   "execution_count": 15,
   "metadata": {},
   "outputs": [
    {
     "data": {
      "text/plain": [
       "array([[  24200.23732129],\n",
       "       [  47288.11442101],\n",
       "       [  51328.49291347],\n",
       "       ...,\n",
       "       [2255066.36208215],\n",
       "       [2794745.4892882 ],\n",
       "       [3418118.17098076]])"
      ]
     },
     "execution_count": 15,
     "metadata": {},
     "output_type": "execute_result"
    }
   ],
   "source": [
    "y_pred"
   ]
  },
  {
   "cell_type": "code",
   "execution_count": null,
   "metadata": {},
   "outputs": [],
   "source": []
  },
  {
   "cell_type": "markdown",
   "metadata": {},
   "source": [
    "### Here You Go ..."
   ]
  },
  {
   "cell_type": "markdown",
   "metadata": {},
   "source": [
    "**A.1. Create a basic setup**\n",
    "\n",
    "Write your own function called ‘polynomial_dataframe’ which accepts an array ‘feature’ and a maximal ‘degree’ and returns an data frame with the first column equal to ‘feature’ and the remaining columns equal to ‘feature’ to increasing integer powers up to ‘degree’."
   ]
  },
  {
   "cell_type": "code",
   "execution_count": 16,
   "metadata": {},
   "outputs": [],
   "source": [
    "def polynomial_dataframe(feature, degree): # feature is pandas.Series type\n",
    "    # assume that degree >= 1\n",
    "    # initialize the dataframe:\n",
    "    poly_dataframe = pd.DataFrame()\n",
    "    # and set poly_dataframe['power_1'] equal to the passed feature\n",
    "\n",
    "    poly_dataframe['power_1'] = feature\n",
    "    \n",
    "    # first check if degree > 1\n",
    "    if degree > 1:\n",
    "        # then loop over the remaining degrees:\n",
    "        for power in range(2, degree+1):\n",
    "            # first we'll give the column a name:\n",
    "            name = 'power_' + str(power)\n",
    "            # assign poly_dataframe[name] to be feature^power; use apply(*)\n",
    "            \n",
    "            poly_dataframe[name] = feature.apply(lambda x: x**power)\n",
    "            \n",
    "            \n",
    "    return poly_dataframe\n"
   ]
  },
  {
   "cell_type": "markdown",
   "metadata": {
    "collapsed": true
   },
   "source": [
    "#### A.2. Fitting a Polynomial of degree 2"
   ]
  },
  {
   "cell_type": "markdown",
   "metadata": {
    "collapsed": true
   },
   "source": [
    "Use your polynomial_dataframe() function to create a dataframe with feature = 'sqft_living' and degree = 2. Take your y as 'price' and X as polynomial_dataframe(sales['sqft_living'], 1) and fit the regression model y on X. Plot the model on the scatter plot between 'sqft_living' and 'price'."
   ]
  },
  {
   "cell_type": "code",
   "execution_count": 20,
   "metadata": {},
   "outputs": [],
   "source": [
    "poly_2 = polynomial_dataframe(data['sqft_living'],2)\n",
    "poly_2['price'] = data['price']"
   ]
  },
  {
   "cell_type": "code",
   "execution_count": 21,
   "metadata": {},
   "outputs": [],
   "source": [
    "X = poly_2.drop(['price'], axis = 1)\n",
    "y = poly_2[['price']]"
   ]
  },
  {
   "cell_type": "code",
   "execution_count": 22,
   "metadata": {},
   "outputs": [],
   "source": [
    "#building regression model\n",
    "linear = LinearRegression()"
   ]
  },
  {
   "cell_type": "code",
   "execution_count": 23,
   "metadata": {},
   "outputs": [
    {
     "data": {
      "text/plain": [
       "LinearRegression()"
      ]
     },
     "execution_count": 23,
     "metadata": {},
     "output_type": "execute_result"
    }
   ],
   "source": [
    "#fitting our model, using x and y\n",
    "linear.fit(X,y)"
   ]
  },
  {
   "cell_type": "code",
   "execution_count": 28,
   "metadata": {},
   "outputs": [
    {
     "name": "stdout",
     "output_type": "stream",
     "text": [
      "Coefficients are: [[1.22673842 0.0522949 ]]\n"
     ]
    }
   ],
   "source": [
    "print(\"Coefficients are:\",linear.coef_)  #printing coef of model"
   ]
  },
  {
   "cell_type": "code",
   "execution_count": 26,
   "metadata": {},
   "outputs": [],
   "source": [
    "y_pred = linear.predict(X) #predicting using model"
   ]
  },
  {
   "cell_type": "code",
   "execution_count": 27,
   "metadata": {},
   "outputs": [
    {
     "data": {
      "text/plain": [
       "[<matplotlib.lines.Line2D at 0x1c2e1a45850>,\n",
       " <matplotlib.lines.Line2D at 0x1c2e1a458b0>]"
      ]
     },
     "execution_count": 27,
     "metadata": {},
     "output_type": "execute_result"
    },
    {
     "data": {
      "image/png": "[encoded data removed]",
      "text/plain": [
       "<Figure size 432x288 with 1 Axes>"
      ]
     },
     "metadata": {
      "needs_background": "light"
     },
     "output_type": "display_data"
    }
   ],
   "source": [
    "#plotting model on scatter plot\n",
    "plt.plot(poly_2['power_1'],y,'.',\n",
    "        poly_2['power_1'], y_pred,'-')"
   ]
  },
  {
   "cell_type": "markdown",
   "metadata": {},
   "source": [
    "#### A.3. Fitting higher order polynomial fits"
   ]
  },
  {
   "cell_type": "markdown",
   "metadata": {},
   "source": [
    "Fit a polynomial of 3rd degree, 4th degree and 5th degree. Look at the fitted line. Do they appear as you would expect?"
   ]
  },
  {
   "cell_type": "markdown",
   "metadata": {},
   "source": [
    "#### Fitting a polynomial of 3rd degree"
   ]
  },
  {
   "cell_type": "code",
   "execution_count": 29,
   "metadata": {},
   "outputs": [
    {
     "name": "stdout",
     "output_type": "stream",
     "text": [
      "Coefficients are: [[7.50292074e+00 5.03063603e-02 1.67090667e-07]]\n"
     ]
    }
   ],
   "source": [
    "poly_3 = polynomial_dataframe(data['sqft_living'], 3)\n",
    "poly_3['price'] = data['price'] # adding price to the data. as it is our target variable\n",
    "\n",
    "#defining dependent (y) and independent (x) variables\n",
    "X_3 = poly_3.drop(['price'], axis = 1)\n",
    "y_3 = poly_3[['price']]\n",
    "\n",
    "\n",
    "linear.fit(X_3, y_3) #fitting the model\n",
    "print(\"Coefficients are:\",linear.coef_)  #printing coefficients of model\n",
    "\n",
    "#predicting\n",
    "y_3_pred = linear.predict(X_3)\n"
   ]
  },
  {
   "cell_type": "code",
   "execution_count": 31,
   "metadata": {},
   "outputs": [
    {
     "data": {
      "image/png": "[encoded data removed]",
      "text/plain": [
       "<Figure size 432x288 with 1 Axes>"
      ]
     },
     "metadata": {
      "needs_background": "light"
     },
     "output_type": "display_data"
    }
   ],
   "source": [
    "#Plotting model on scatter plot\n",
    "plt.plot(poly_3['power_1'],y_3,'.',\n",
    "        poly_3['power_1'], y_3_pred,'-')\n",
    "plt.xlabel('Square_Feet')\n",
    "plt.ylabel('Price')\n",
    "plt.show()"
   ]
  },
  {
   "cell_type": "markdown",
   "metadata": {},
   "source": [
    "#### Fitting a polynomial of 4th degree"
   ]
  },
  {
   "cell_type": "code",
   "execution_count": 32,
   "metadata": {},
   "outputs": [
    {
     "name": "stdout",
     "output_type": "stream",
     "text": [
      "Coefficients are: [[-1.53852721e+01  6.08970906e-02 -1.61496571e-06  9.11725302e-11]]\n"
     ]
    }
   ],
   "source": [
    "poly_4 = polynomial_dataframe(data['sqft_living'], 4)\n",
    "poly_4['price'] = data['price'] # adding price to the data. as it is our target variable\n",
    "\n",
    "#defining dependent (y) and independent (x) variables\n",
    "X_4 = poly_4.drop(['price'], axis = 1)\n",
    "y_4 = poly_4[['price']]\n",
    "\n",
    "\n",
    "linear.fit(X_4, y_4) #fitting the model\n",
    "print(\"Coefficients are:\",linear.coef_)  #printing coefficients of model\n",
    "\n",
    "#predicting\n",
    "y_4_pred = linear.predict(X_4)"
   ]
  },
  {
   "cell_type": "code",
   "execution_count": 33,
   "metadata": {},
   "outputs": [
    {
     "data": {
      "image/png": "[encoded data removed]",
      "text/plain": [
       "<Figure size 432x288 with 1 Axes>"
      ]
     },
     "metadata": {
      "needs_background": "light"
     },
     "output_type": "display_data"
    }
   ],
   "source": [
    "#Plotting model on scatter plot\n",
    "plt.plot(poly_4['power_1'],y_4,'.',\n",
    "        poly_4['power_1'], y_4_pred,'-')\n",
    "plt.xlabel('Square_Feet')\n",
    "plt.ylabel('Price')\n",
    "plt.show()"
   ]
  },
  {
   "cell_type": "markdown",
   "metadata": {},
   "source": [
    "#### Fitting a polynomial of 5th degree"
   ]
  },
  {
   "cell_type": "code",
   "execution_count": 34,
   "metadata": {},
   "outputs": [
    {
     "name": "stdout",
     "output_type": "stream",
     "text": [
      "Coefficients are: [[ 3.19801946e-05  5.44553066e-02 -6.43007280e-07  4.83000202e-11\n",
      "  -2.30362232e-16]]\n"
     ]
    }
   ],
   "source": [
    "poly_5 = polynomial_dataframe(data['sqft_living'], 5)\n",
    "poly_5['price'] = data['price'] # adding price to the data. as it is our target variable\n",
    "\n",
    "#defining dependent (y) and independent (x) variables\n",
    "X_5 = poly_5.drop(['price'], axis = 1)\n",
    "y_5 = poly_5[['price']]\n",
    "\n",
    "\n",
    "linear.fit(X_5, y_5) #fitting the model\n",
    "print(\"Coefficients are:\",linear.coef_)  #printing coefficients of model\n",
    "\n",
    "#predicting\n",
    "y_5_pred = linear.predict(X_5)"
   ]
  },
  {
   "cell_type": "code",
   "execution_count": 35,
   "metadata": {},
   "outputs": [
    {
     "data": {
      "image/png": "[encoded data removed]",
      "text/plain": [
       "<Figure size 432x288 with 1 Axes>"
      ]
     },
     "metadata": {
      "needs_background": "light"
     },
     "output_type": "display_data"
    }
   ],
   "source": [
    "#Plotting model on scatter plot\n",
    "plt.plot(poly_5['power_1'],y_5,'.',\n",
    "        poly_5['power_1'], y_5_pred,'-')\n",
    "plt.xlabel('Square_Feet')\n",
    "plt.ylabel('Price')\n",
    "plt.show()"
   ]
  },
  {
   "cell_type": "code",
   "execution_count": null,
   "metadata": {},
   "outputs": [],
   "source": []
  },
  {
   "cell_type": "markdown",
   "metadata": {},
   "source": [
    "#### A.4. Fit a polynomial of degree 15"
   ]
  },
  {
   "cell_type": "markdown",
   "metadata": {},
   "source": [
    "Now try a 15th degree polynomial. Print out the coefficients and look at the resulted fitted line. Do you think this degree is appropriate for these data? If we were to use a different subset of the data do you think we would get pretty much the same curve?"
   ]
  },
  {
   "cell_type": "code",
   "execution_count": 36,
   "metadata": {},
   "outputs": [
    {
     "name": "stdout",
     "output_type": "stream",
     "text": [
      "Coefficients are: [[ 3.65649652e-89 -3.49017019e-49 -4.97899062e-55 -1.99136489e-59\n",
      "   3.04293598e-73  8.36182560e-70  5.73133489e-66  3.83786524e-62\n",
      "   2.47884969e-58  1.51269750e-54  8.40594099e-51  3.93663091e-47\n",
      "   1.24240972e-43 -2.25041880e-47  1.01236550e-51]]\n"
     ]
    }
   ],
   "source": [
    "poly_15 = polynomial_dataframe(data['sqft_living'], 15)\n",
    "poly_15['price'] = data['price'] # adding price to the data. as it is our target variable\n",
    "\n",
    "#defining dependent (y) and independent (x) variables\n",
    "X_15 = poly_15.drop(['price'], axis = 1)\n",
    "y_15 = poly_15[['price']]\n",
    "\n",
    "\n",
    "linear.fit(X_15, y_15) #fitting the model\n",
    "print(\"Coefficients are:\",linear.coef_)  #printing coefficients of model\n",
    "\n",
    "#predicting\n",
    "y_15_pred = linear.predict(X_15)"
   ]
  },
  {
   "cell_type": "code",
   "execution_count": 37,
   "metadata": {},
   "outputs": [
    {
     "data": {
      "image/png": "[encoded data removed]",
      "text/plain": [
       "<Figure size 432x288 with 1 Axes>"
      ]
     },
     "metadata": {
      "needs_background": "light"
     },
     "output_type": "display_data"
    }
   ],
   "source": [
    "#Plotting model on scatter plot\n",
    "plt.plot(poly_15['power_1'],y_15,'.',\n",
    "        poly_15['power_1'], y_15_pred,'-')\n",
    "plt.xlabel('Square_Feet')\n",
    "plt.ylabel('Price')\n",
    "plt.show()"
   ]
  },
  {
   "cell_type": "markdown",
   "metadata": {},
   "source": [
    "No, 15 degree is not appropriate for this polynomial model. As we can see our data is overfitting."
   ]
  },
  {
   "cell_type": "code",
   "execution_count": null,
   "metadata": {},
   "outputs": [],
   "source": []
  },
  {
   "cell_type": "markdown",
   "metadata": {},
   "source": [
    "#### A.5. Exploring overfitting due to high variance"
   ]
  },
  {
   "cell_type": "markdown",
   "metadata": {},
   "source": [
    "Estimate a 15th degree polynomial on all 4 subsets of the original sample (provided to you), plot the results and view the coefficients for all four models."
   ]
  },
  {
   "cell_type": "code",
   "execution_count": 38,
   "metadata": {},
   "outputs": [],
   "source": [
    "#calling the subset data\n",
    "\n",
    "set1 = pd.read_csv('C:\\Praxis\\Term-3\\MI\\Assignment_Dataset\\wk3_kc_house_set_1_data.csv')\n",
    "set2 = pd.read_csv('C:\\Praxis\\Term-3\\MI\\Assignment_Dataset\\wk3_kc_house_set_2_data.csv')\n",
    "set3 = pd.read_csv('C:\\Praxis\\Term-3\\MI\\Assignment_Dataset\\wk3_kc_house_set_3_data.csv')\n",
    "set4 = pd.read_csv('C:\\Praxis\\Term-3\\MI\\Assignment_Dataset\\wk3_kc_house_set_4_data.csv')"
   ]
  },
  {
   "cell_type": "markdown",
   "metadata": {},
   "source": [
    "#### Using set 1 of subset, for polynomial fit of degree 15 and for fitting the model of degree 15"
   ]
  },
  {
   "cell_type": "code",
   "execution_count": 39,
   "metadata": {},
   "outputs": [
    {
     "name": "stdout",
     "output_type": "stream",
     "text": [
      "Coefficients are: [[ 3.05794168e-90 -1.69394919e-49  2.35913867e-55 -9.95682444e-60\n",
      "   3.23082736e-74  1.10358333e-70  8.37724029e-67  6.23411957e-63\n",
      "   4.49156442e-59  3.06938763e-55  1.91749300e-51  1.01335180e-47\n",
      "   3.62176959e-44 -5.63501661e-48  2.18641116e-52]]\n"
     ]
    }
   ],
   "source": [
    "subset1 = polynomial_dataframe(set1['sqft_living'], 15)\n",
    "subset1['price'] = set1['price'] # adding price to the data. as it is our target variable\n",
    "\n",
    "#defining dependent (y) and independent (x) variables\n",
    "target1 = subset1.drop(['price'], axis = 1)\n",
    "y1 = subset1[['price']]\n",
    "\n",
    "#fitting model\n",
    "linear.fit(target1, y1)\n",
    "print(\"Coefficients are:\", linear.coef_)  #printing coefficients of model\n",
    "\n",
    "#predicting \n",
    "y1_pred = linear.predict(target1)"
   ]
  },
  {
   "cell_type": "code",
   "execution_count": 40,
   "metadata": {},
   "outputs": [
    {
     "data": {
      "image/png": "[encoded data removed]",
      "text/plain": [
       "<Figure size 432x288 with 1 Axes>"
      ]
     },
     "metadata": {
      "needs_background": "light"
     },
     "output_type": "display_data"
    }
   ],
   "source": [
    "#plotting model on scatter plot\n",
    "plt.plot(subset1['power_1'],y1,'.',\n",
    "        subset1['power_1'], y1_pred,'-')\n",
    "plt.xlabel('Square_Feet')\n",
    "plt.ylabel('Price')\n",
    "plt.show()"
   ]
  },
  {
   "cell_type": "code",
   "execution_count": null,
   "metadata": {},
   "outputs": [],
   "source": []
  },
  {
   "cell_type": "markdown",
   "metadata": {},
   "source": [
    "#### Using set 2 of subset, for polynomial fit of degree 15 and for fitting the model of degree 15"
   ]
  },
  {
   "cell_type": "code",
   "execution_count": 41,
   "metadata": {},
   "outputs": [
    {
     "name": "stdout",
     "output_type": "stream",
     "text": [
      "Coefficients are: [[ 2.71335949e-77  7.33540841e-39 -1.85007963e-44  9.58625903e-50\n",
      "   5.73786181e-71  1.51934988e-58  3.64549617e-55  1.50416258e-51\n",
      "   5.76015667e-48  1.95770498e-44  5.39396541e-41  9.40376364e-38\n",
      "  -3.63529143e-41  4.65476526e-45 -1.97198908e-49]]\n"
     ]
    }
   ],
   "source": [
    "subset2 = polynomial_dataframe(set2['sqft_living'], 15)\n",
    "subset2['price'] = set2['price'] # adding price to the data. as it is our target variable\n",
    "\n",
    "#defining dependent (y) and independent (x) variables\n",
    "target2 = subset2.drop(['price'], axis = 1)\n",
    "y2 = subset2[['price']]\n",
    "\n",
    "#fitting model\n",
    "linear.fit(target2, y2)\n",
    "print(\"Coefficients are:\", linear.coef_)  #printing coefficients of model\n",
    "\n",
    "#predicting\n",
    "y2_pred = linear.predict(target2)"
   ]
  },
  {
   "cell_type": "code",
   "execution_count": 42,
   "metadata": {},
   "outputs": [
    {
     "data": {
      "image/png": "[encoded data removed]",
      "text/plain": [
       "<Figure size 432x288 with 1 Axes>"
      ]
     },
     "metadata": {
      "needs_background": "light"
     },
     "output_type": "display_data"
    }
   ],
   "source": [
    "#plotting model on scatter plot\n",
    "plt.plot(subset2['power_1'],y2,'.',\n",
    "        subset2['power_1'], y2_pred,'-')\n",
    "plt.xlabel('Square_Feet')\n",
    "plt.ylabel('Price')\n",
    "plt.show()"
   ]
  },
  {
   "cell_type": "code",
   "execution_count": null,
   "metadata": {},
   "outputs": [],
   "source": []
  },
  {
   "cell_type": "markdown",
   "metadata": {},
   "source": [
    "#### Using set 3 of subset, for polynomial fit of degree 15 and for fitting the model of degree 15"
   ]
  },
  {
   "cell_type": "code",
   "execution_count": 43,
   "metadata": {},
   "outputs": [
    {
     "name": "stdout",
     "output_type": "stream",
     "text": [
      "Coefficients are: [[ 2.83751934e-88  5.40215608e-49 -1.63142539e-55  3.98272978e-59\n",
      "   1.57170169e-72  4.27894908e-69  2.68009626e-65  1.63911362e-61\n",
      "   9.66435015e-58  5.38044653e-54  2.72563636e-50  1.16253248e-46\n",
      "   3.33756141e-43 -6.76238818e-47  3.43132932e-51]]\n"
     ]
    }
   ],
   "source": [
    "subset3 = polynomial_dataframe(set3['sqft_living'], 15)\n",
    "subset3['price'] = set3['price'] # adding price to the data. as it is our target variable\n",
    "\n",
    "#defining dependent (y) and independent (x) variables\n",
    "target3 = subset3.drop(['price'], axis = 1)\n",
    "y3 = subset3[['price']]\n",
    "\n",
    "#fitting model\n",
    "linear.fit(target3, y3)\n",
    "print(\"Coefficients are:\", linear.coef_)  #printing coefficients of model\n",
    "\n",
    "#predicting\n",
    "y3_pred = linear.predict(target3)"
   ]
  },
  {
   "cell_type": "code",
   "execution_count": 44,
   "metadata": {},
   "outputs": [
    {
     "data": {
      "image/png": "[encoded data removed]",
      "text/plain": [
       "<Figure size 432x288 with 1 Axes>"
      ]
     },
     "metadata": {
      "needs_background": "light"
     },
     "output_type": "display_data"
    }
   ],
   "source": [
    "#plotting model on scatter plot\n",
    "plt.plot(subset3['power_1'],y3,'.',\n",
    "        subset3['power_1'], y3_pred,'-')\n",
    "plt.xlabel('Square_Feet')\n",
    "plt.ylabel('Price')\n",
    "plt.show()"
   ]
  },
  {
   "cell_type": "code",
   "execution_count": null,
   "metadata": {},
   "outputs": [],
   "source": []
  },
  {
   "cell_type": "markdown",
   "metadata": {},
   "source": [
    "#### Using set 4 of subset, for polynomial fit of degree 15 and for fitting the model of degree 15"
   ]
  },
  {
   "cell_type": "code",
   "execution_count": 45,
   "metadata": {},
   "outputs": [
    {
     "name": "stdout",
     "output_type": "stream",
     "text": [
      "Coefficients are: [[ 1.37116050e-76  2.79678301e-40 -2.13061788e-44 -5.68534423e-49\n",
      "   2.58420327e-70  5.29002498e-58  1.27070046e-54  4.87868972e-51\n",
      "   1.73549022e-47  5.47058320e-44  1.39587599e-40  2.25041871e-37\n",
      "  -9.43954119e-41  1.31573060e-44 -6.09163447e-49]]\n"
     ]
    }
   ],
   "source": [
    "subset4 = polynomial_dataframe(set4['sqft_living'], 15)\n",
    "subset4['price'] = set4['price'] # adding price to the data. as it is our target variable\n",
    "\n",
    "#defining dependent (y) and independent (x) variables\n",
    "target4 = subset4.drop(['price'], axis = 1)\n",
    "y4 = subset4[['price']]\n",
    "\n",
    "#fitting model\n",
    "linear.fit(target4, y4)\n",
    "print(\"Coefficients are:\", linear.coef_)  #printing coefficients of model\n",
    "\n",
    "#predicting\n",
    "y4_pred = linear.predict(target4)"
   ]
  },
  {
   "cell_type": "code",
   "execution_count": 46,
   "metadata": {},
   "outputs": [
    {
     "data": {
      "image/png": "[encoded data removed]",
      "text/plain": [
       "<Figure size 432x288 with 1 Axes>"
      ]
     },
     "metadata": {
      "needs_background": "light"
     },
     "output_type": "display_data"
    }
   ],
   "source": [
    "#plotting model on scatter plot\n",
    "plt.plot(subset4['power_1'],y4,'.',\n",
    "        subset4['power_1'], y4_pred,'-')\n",
    "plt.xlabel('Square_Feet')\n",
    "plt.ylabel('Price')\n",
    "plt.show()"
   ]
  },
  {
   "cell_type": "code",
   "execution_count": null,
   "metadata": {},
   "outputs": [],
   "source": []
  },
  {
   "cell_type": "markdown",
   "metadata": {},
   "source": [
    "**Answer the following questions**"
   ]
  },
  {
   "cell_type": "markdown",
   "metadata": {
    "collapsed": true
   },
   "source": [
    "**Is the sign (positive or negative) for power_15 the same in all four models?**"
   ]
  },
  {
   "cell_type": "markdown",
   "metadata": {},
   "source": [
    "No"
   ]
  },
  {
   "cell_type": "markdown",
   "metadata": {
    "collapsed": true
   },
   "source": [
    "**True/False the plotted fitted lines look the same in all four plots**"
   ]
  },
  {
   "cell_type": "markdown",
   "metadata": {},
   "source": [
    "False, plotted lines don't look same in all four plots."
   ]
  },
  {
   "cell_type": "markdown",
   "metadata": {
    "collapsed": true
   },
   "source": [
    "#### A.6. Validate your models"
   ]
  },
  {
   "cell_type": "markdown",
   "metadata": {
    "collapsed": true
   },
   "source": [
    "A separate training set, validation set and test set is provided to you. For each degree (1,2,...15), fit a regression model on the training set and validate on the validation set by computing the RSS. Save the RSS in a list and plot a graph to visualize 'RSS' against 'Model Complexity'. "
   ]
  },
  {
   "cell_type": "code",
   "execution_count": null,
   "metadata": {},
   "outputs": [],
   "source": [
    "#importing train, test, validation dataset"
   ]
  },
  {
   "cell_type": "code",
   "execution_count": 50,
   "metadata": {},
   "outputs": [
    {
     "data": {
      "text/html": [
       "<div>\n",
       "<style scoped>\n",
       "    .dataframe tbody tr th:only-of-type {\n",
       "        vertical-align: middle;\n",
       "    }\n",
       "\n",
       "    .dataframe tbody tr th {\n",
       "        vertical-align: top;\n",
       "    }\n",
       "\n",
       "    .dataframe thead th {\n",
       "        text-align: right;\n",
       "    }\n",
       "</style>\n",
       "<table border=\"1\" class=\"dataframe\">\n",
       "  <thead>\n",
       "    <tr style=\"text-align: right;\">\n",
       "      <th></th>\n",
       "      <th>id</th>\n",
       "      <th>date</th>\n",
       "      <th>price</th>\n",
       "      <th>bedrooms</th>\n",
       "      <th>bathrooms</th>\n",
       "      <th>sqft_living</th>\n",
       "      <th>sqft_lot</th>\n",
       "      <th>floors</th>\n",
       "      <th>waterfront</th>\n",
       "      <th>view</th>\n",
       "      <th>condition</th>\n",
       "      <th>grade</th>\n",
       "      <th>sqft_above</th>\n",
       "      <th>sqft_basement</th>\n",
       "      <th>yr_built</th>\n",
       "      <th>yr_renovated</th>\n",
       "      <th>zipcode</th>\n",
       "      <th>lat</th>\n",
       "      <th>long</th>\n",
       "      <th>sqft_living15</th>\n",
       "      <th>sqft_lot15</th>\n",
       "    </tr>\n",
       "  </thead>\n",
       "  <tbody>\n",
       "    <tr>\n",
       "      <th>8840</th>\n",
       "      <td>3980300371</td>\n",
       "      <td>20140926T000000</td>\n",
       "      <td>142000.0</td>\n",
       "      <td>0</td>\n",
       "      <td>0.00</td>\n",
       "      <td>290</td>\n",
       "      <td>20875</td>\n",
       "      <td>1.0</td>\n",
       "      <td>0</td>\n",
       "      <td>0</td>\n",
       "      <td>1</td>\n",
       "      <td>1</td>\n",
       "      <td>290</td>\n",
       "      <td>0</td>\n",
       "      <td>1963</td>\n",
       "      <td>0</td>\n",
       "      <td>98024</td>\n",
       "      <td>47.5308</td>\n",
       "      <td>-121.888</td>\n",
       "      <td>1620</td>\n",
       "      <td>22850</td>\n",
       "    </tr>\n",
       "    <tr>\n",
       "      <th>6982</th>\n",
       "      <td>2856101479</td>\n",
       "      <td>20140701T000000</td>\n",
       "      <td>276000.0</td>\n",
       "      <td>1</td>\n",
       "      <td>0.75</td>\n",
       "      <td>370</td>\n",
       "      <td>1801</td>\n",
       "      <td>1.0</td>\n",
       "      <td>0</td>\n",
       "      <td>0</td>\n",
       "      <td>5</td>\n",
       "      <td>5</td>\n",
       "      <td>370</td>\n",
       "      <td>0</td>\n",
       "      <td>1923</td>\n",
       "      <td>0</td>\n",
       "      <td>98117</td>\n",
       "      <td>47.6778</td>\n",
       "      <td>-122.389</td>\n",
       "      <td>1340</td>\n",
       "      <td>5000</td>\n",
       "    </tr>\n",
       "  </tbody>\n",
       "</table>\n",
       "</div>"
      ],
      "text/plain": [
       "              id             date     price  bedrooms  bathrooms  sqft_living  \\\n",
       "8840  3980300371  20140926T000000  142000.0         0       0.00          290   \n",
       "6982  2856101479  20140701T000000  276000.0         1       0.75          370   \n",
       "\n",
       "      sqft_lot  floors  waterfront  view  condition  grade  sqft_above  \\\n",
       "8840     20875     1.0           0     0          1      1         290   \n",
       "6982      1801     1.0           0     0          5      5         370   \n",
       "\n",
       "      sqft_basement  yr_built  yr_renovated  zipcode      lat     long  \\\n",
       "8840              0      1963             0    98024  47.5308 -121.888   \n",
       "6982              0      1923             0    98117  47.6778 -122.389   \n",
       "\n",
       "      sqft_living15  sqft_lot15  \n",
       "8840           1620       22850  \n",
       "6982           1340        5000  "
      ]
     },
     "execution_count": 50,
     "metadata": {},
     "output_type": "execute_result"
    }
   ],
   "source": [
    "train_df = pd.read_csv('C:\\Praxis\\Term-3\\MI\\Assignment_Dataset\\wk3_kc_house_train_data.csv')\n",
    "train_df = train_df.sort_values(['sqft_living','price'])\n",
    "train_df.head(2)"
   ]
  },
  {
   "cell_type": "code",
   "execution_count": 51,
   "metadata": {},
   "outputs": [
    {
     "data": {
      "text/html": [
       "<div>\n",
       "<style scoped>\n",
       "    .dataframe tbody tr th:only-of-type {\n",
       "        vertical-align: middle;\n",
       "    }\n",
       "\n",
       "    .dataframe tbody tr th {\n",
       "        vertical-align: top;\n",
       "    }\n",
       "\n",
       "    .dataframe thead th {\n",
       "        text-align: right;\n",
       "    }\n",
       "</style>\n",
       "<table border=\"1\" class=\"dataframe\">\n",
       "  <thead>\n",
       "    <tr style=\"text-align: right;\">\n",
       "      <th></th>\n",
       "      <th>id</th>\n",
       "      <th>date</th>\n",
       "      <th>price</th>\n",
       "      <th>bedrooms</th>\n",
       "      <th>bathrooms</th>\n",
       "      <th>sqft_living</th>\n",
       "      <th>sqft_lot</th>\n",
       "      <th>floors</th>\n",
       "      <th>waterfront</th>\n",
       "      <th>view</th>\n",
       "      <th>condition</th>\n",
       "      <th>grade</th>\n",
       "      <th>sqft_above</th>\n",
       "      <th>sqft_basement</th>\n",
       "      <th>yr_built</th>\n",
       "      <th>yr_renovated</th>\n",
       "      <th>zipcode</th>\n",
       "      <th>lat</th>\n",
       "      <th>long</th>\n",
       "      <th>sqft_living15</th>\n",
       "      <th>sqft_lot15</th>\n",
       "    </tr>\n",
       "  </thead>\n",
       "  <tbody>\n",
       "    <tr>\n",
       "      <th>1462</th>\n",
       "      <td>7549801385</td>\n",
       "      <td>20140612T000000</td>\n",
       "      <td>280000.0</td>\n",
       "      <td>1</td>\n",
       "      <td>0.75</td>\n",
       "      <td>420</td>\n",
       "      <td>6720</td>\n",
       "      <td>1.0</td>\n",
       "      <td>0</td>\n",
       "      <td>0</td>\n",
       "      <td>3</td>\n",
       "      <td>5</td>\n",
       "      <td>420</td>\n",
       "      <td>0</td>\n",
       "      <td>1922</td>\n",
       "      <td>0</td>\n",
       "      <td>98108</td>\n",
       "      <td>47.5520</td>\n",
       "      <td>-122.311</td>\n",
       "      <td>1420</td>\n",
       "      <td>6720</td>\n",
       "    </tr>\n",
       "    <tr>\n",
       "      <th>1172</th>\n",
       "      <td>6453300055</td>\n",
       "      <td>20141007T000000</td>\n",
       "      <td>188000.0</td>\n",
       "      <td>1</td>\n",
       "      <td>1.00</td>\n",
       "      <td>550</td>\n",
       "      <td>16345</td>\n",
       "      <td>1.0</td>\n",
       "      <td>0</td>\n",
       "      <td>0</td>\n",
       "      <td>3</td>\n",
       "      <td>4</td>\n",
       "      <td>550</td>\n",
       "      <td>0</td>\n",
       "      <td>1945</td>\n",
       "      <td>0</td>\n",
       "      <td>98106</td>\n",
       "      <td>47.5181</td>\n",
       "      <td>-122.339</td>\n",
       "      <td>1100</td>\n",
       "      <td>9240</td>\n",
       "    </tr>\n",
       "  </tbody>\n",
       "</table>\n",
       "</div>"
      ],
      "text/plain": [
       "              id             date     price  bedrooms  bathrooms  sqft_living  \\\n",
       "1462  7549801385  20140612T000000  280000.0         1       0.75          420   \n",
       "1172  6453300055  20141007T000000  188000.0         1       1.00          550   \n",
       "\n",
       "      sqft_lot  floors  waterfront  view  condition  grade  sqft_above  \\\n",
       "1462      6720     1.0           0     0          3      5         420   \n",
       "1172     16345     1.0           0     0          3      4         550   \n",
       "\n",
       "      sqft_basement  yr_built  yr_renovated  zipcode      lat     long  \\\n",
       "1462              0      1922             0    98108  47.5520 -122.311   \n",
       "1172              0      1945             0    98106  47.5181 -122.339   \n",
       "\n",
       "      sqft_living15  sqft_lot15  \n",
       "1462           1420        6720  \n",
       "1172           1100        9240  "
      ]
     },
     "execution_count": 51,
     "metadata": {},
     "output_type": "execute_result"
    }
   ],
   "source": [
    "test_df = pd.read_csv('C:\\Praxis\\Term-3\\MI\\Assignment_Dataset\\wk3_kc_house_test_data.csv')\n",
    "test_df = test_df.sort_values(['sqft_living','price'])\n",
    "test_df.head(2)"
   ]
  },
  {
   "cell_type": "code",
   "execution_count": 53,
   "metadata": {},
   "outputs": [
    {
     "data": {
      "text/html": [
       "<div>\n",
       "<style scoped>\n",
       "    .dataframe tbody tr th:only-of-type {\n",
       "        vertical-align: middle;\n",
       "    }\n",
       "\n",
       "    .dataframe tbody tr th {\n",
       "        vertical-align: top;\n",
       "    }\n",
       "\n",
       "    .dataframe thead th {\n",
       "        text-align: right;\n",
       "    }\n",
       "</style>\n",
       "<table border=\"1\" class=\"dataframe\">\n",
       "  <thead>\n",
       "    <tr style=\"text-align: right;\">\n",
       "      <th></th>\n",
       "      <th>id</th>\n",
       "      <th>date</th>\n",
       "      <th>price</th>\n",
       "      <th>bedrooms</th>\n",
       "      <th>bathrooms</th>\n",
       "      <th>sqft_living</th>\n",
       "      <th>sqft_lot</th>\n",
       "      <th>floors</th>\n",
       "      <th>waterfront</th>\n",
       "      <th>view</th>\n",
       "      <th>condition</th>\n",
       "      <th>grade</th>\n",
       "      <th>sqft_above</th>\n",
       "      <th>sqft_basement</th>\n",
       "      <th>yr_built</th>\n",
       "      <th>yr_renovated</th>\n",
       "      <th>zipcode</th>\n",
       "      <th>lat</th>\n",
       "      <th>long</th>\n",
       "      <th>sqft_living15</th>\n",
       "      <th>sqft_lot15</th>\n",
       "    </tr>\n",
       "  </thead>\n",
       "  <tbody>\n",
       "    <tr>\n",
       "      <th>381</th>\n",
       "      <td>1723049033</td>\n",
       "      <td>20140620T000000</td>\n",
       "      <td>245000.0</td>\n",
       "      <td>1</td>\n",
       "      <td>0.75</td>\n",
       "      <td>380</td>\n",
       "      <td>15000</td>\n",
       "      <td>1.0</td>\n",
       "      <td>0</td>\n",
       "      <td>0</td>\n",
       "      <td>3</td>\n",
       "      <td>5</td>\n",
       "      <td>380</td>\n",
       "      <td>0</td>\n",
       "      <td>1963</td>\n",
       "      <td>0</td>\n",
       "      <td>98168</td>\n",
       "      <td>47.4810</td>\n",
       "      <td>-122.323</td>\n",
       "      <td>1170</td>\n",
       "      <td>15000</td>\n",
       "    </tr>\n",
       "    <tr>\n",
       "      <th>3804</th>\n",
       "      <td>6303400395</td>\n",
       "      <td>20150130T000000</td>\n",
       "      <td>325000.0</td>\n",
       "      <td>1</td>\n",
       "      <td>0.75</td>\n",
       "      <td>410</td>\n",
       "      <td>8636</td>\n",
       "      <td>1.0</td>\n",
       "      <td>0</td>\n",
       "      <td>0</td>\n",
       "      <td>2</td>\n",
       "      <td>4</td>\n",
       "      <td>410</td>\n",
       "      <td>0</td>\n",
       "      <td>1953</td>\n",
       "      <td>0</td>\n",
       "      <td>98146</td>\n",
       "      <td>47.5077</td>\n",
       "      <td>-122.357</td>\n",
       "      <td>1190</td>\n",
       "      <td>8636</td>\n",
       "    </tr>\n",
       "  </tbody>\n",
       "</table>\n",
       "</div>"
      ],
      "text/plain": [
       "              id             date     price  bedrooms  bathrooms  sqft_living  \\\n",
       "381   1723049033  20140620T000000  245000.0         1       0.75          380   \n",
       "3804  6303400395  20150130T000000  325000.0         1       0.75          410   \n",
       "\n",
       "      sqft_lot  floors  waterfront  view  condition  grade  sqft_above  \\\n",
       "381      15000     1.0           0     0          3      5         380   \n",
       "3804      8636     1.0           0     0          2      4         410   \n",
       "\n",
       "      sqft_basement  yr_built  yr_renovated  zipcode      lat     long  \\\n",
       "381               0      1963             0    98168  47.4810 -122.323   \n",
       "3804              0      1953             0    98146  47.5077 -122.357   \n",
       "\n",
       "      sqft_living15  sqft_lot15  \n",
       "381            1170       15000  \n",
       "3804           1190        8636  "
      ]
     },
     "execution_count": 53,
     "metadata": {},
     "output_type": "execute_result"
    }
   ],
   "source": [
    "valid_df = pd.read_csv('C:\\Praxis\\Term-3\\MI\\Assignment_Dataset\\wk3_kc_house_valid_data.csv')\n",
    "valid_df = valid_df.sort_values(['sqft_living','price'])\n",
    "valid_df.head(2)"
   ]
  },
  {
   "cell_type": "code",
   "execution_count": 114,
   "metadata": {},
   "outputs": [
    {
     "name": "stdout",
     "output_type": "stream",
     "text": [
      "Degree: 1, Train Data RSS: $629097886299585.750000\n",
      "Degree: 2, Train Data RSS: $623955062706517.750000\n",
      "Degree: 3, Train Data RSS: $625820280251530.875000\n",
      "Degree: 4, Train Data RSS: $629987341468497.125000\n",
      "Degree: 5, Train Data RSS: $628238344095599.375000\n",
      "Degree: 6, Train Data RSS: $566268581211901.125000\n",
      "Degree: 7, Train Data RSS: $1073845840089625.625000\n",
      "Degree: 8, Train Data RSS: $7087885537488250.000000\n",
      "Degree: 9, Train Data RSS: $45305704688463568.000000\n",
      "Degree: 10, Train Data RSS: $247342491440303392.000000\n",
      "Degree: 11, Train Data RSS: $1193822763045106432.000000\n",
      "Degree: 12, Train Data RSS: $5208198592702964736.000000\n",
      "Degree: 13, Train Data RSS: $761623002128042496.000000\n",
      "Degree: 14, Train Data RSS: $2297560925012636160.000000\n",
      "Degree: 15, Train Data RSS: $6955038097254376448.000000\n"
     ]
    }
   ],
   "source": [
    "for i in range(1,16):\n",
    "    poly_data = polynomial_dataframe(train_df['sqft_living'], i)\n",
    "    poly_data['price'] = train_df['price'] # add price to the data since it's the target\n",
    "    \n",
    "    X_train = poly_data.drop(['price'], axis = 1)\n",
    "    y_train = poly_data[['price']]\n",
    "    \n",
    "    linear = LinearRegression(copy_X = True, fit_intercept= True, n_jobs=1, normalize=False )\n",
    "    model = linear.fit(X_train, y_train)\n",
    "    \n",
    "    validation_data = polynomial_dataframe(valid_df['sqft_living'], i)\n",
    "    validation_data['price'] = valid_df['price']\n",
    "    \n",
    "    X_valid = validation_data.drop(['price'], axis =1)\n",
    "    y_valid = validation_data[['price']]\n",
    "    \n",
    "    predictions = linear.predict(X_valid)\n",
    "    \n",
    "    RSS = ((predictions - y_valid) * (predictions - y_valid)).sum()\n",
    "    print(\"Degree: %s, Train Data RSS: $%.6f\" % (i, RSS))"
   ]
  },
  {
   "cell_type": "code",
   "execution_count": 65,
   "metadata": {},
   "outputs": [
    {
     "data": {
      "text/html": [
       "<div>\n",
       "<style scoped>\n",
       "    .dataframe tbody tr th:only-of-type {\n",
       "        vertical-align: middle;\n",
       "    }\n",
       "\n",
       "    .dataframe tbody tr th {\n",
       "        vertical-align: top;\n",
       "    }\n",
       "\n",
       "    .dataframe thead th {\n",
       "        text-align: right;\n",
       "    }\n",
       "</style>\n",
       "<table border=\"1\" class=\"dataframe\">\n",
       "  <thead>\n",
       "    <tr style=\"text-align: right;\">\n",
       "      <th></th>\n",
       "      <th>power_1</th>\n",
       "      <th>power_2</th>\n",
       "      <th>power_3</th>\n",
       "      <th>power_4</th>\n",
       "      <th>power_5</th>\n",
       "      <th>power_6</th>\n",
       "      <th>power_7</th>\n",
       "      <th>power_8</th>\n",
       "      <th>power_9</th>\n",
       "      <th>power_10</th>\n",
       "      <th>power_11</th>\n",
       "      <th>power_12</th>\n",
       "      <th>power_13</th>\n",
       "      <th>power_14</th>\n",
       "      <th>power_15</th>\n",
       "      <th>price</th>\n",
       "    </tr>\n",
       "  </thead>\n",
       "  <tbody>\n",
       "    <tr>\n",
       "      <th>8840</th>\n",
       "      <td>290</td>\n",
       "      <td>84100</td>\n",
       "      <td>24389000</td>\n",
       "      <td>7072810000</td>\n",
       "      <td>2051114900000</td>\n",
       "      <td>594823321000000</td>\n",
       "      <td>172498763090000000</td>\n",
       "      <td>50024641296100000000</td>\n",
       "      <td>14507145975869000000000</td>\n",
       "      <td>4207072333002010000000000</td>\n",
       "      <td>1220050976570582900000000000</td>\n",
       "      <td>353814783205469041000000000000</td>\n",
       "      <td>102606287129586021890000000000000</td>\n",
       "      <td>29755823267579946348100000000000000</td>\n",
       "      <td>8629188747598184440949000000000000000</td>\n",
       "      <td>142000.0</td>\n",
       "    </tr>\n",
       "    <tr>\n",
       "      <th>6982</th>\n",
       "      <td>370</td>\n",
       "      <td>136900</td>\n",
       "      <td>50653000</td>\n",
       "      <td>18741610000</td>\n",
       "      <td>6934395700000</td>\n",
       "      <td>2565726409000000</td>\n",
       "      <td>949318771330000000</td>\n",
       "      <td>351247945392100000000</td>\n",
       "      <td>129961739795077000000000</td>\n",
       "      <td>48085843724178490000000000</td>\n",
       "      <td>17791762177946041300000000000</td>\n",
       "      <td>6582952005840035281000000000000</td>\n",
       "      <td>2435692242160813053970000000000000</td>\n",
       "      <td>901206129599500829968900000000000000</td>\n",
       "      <td>333446267951815307088493000000000000000</td>\n",
       "      <td>276000.0</td>\n",
       "    </tr>\n",
       "    <tr>\n",
       "      <th>8338</th>\n",
       "      <td>384</td>\n",
       "      <td>147456</td>\n",
       "      <td>56623104</td>\n",
       "      <td>21743271936</td>\n",
       "      <td>8349416423424</td>\n",
       "      <td>3206175906594816</td>\n",
       "      <td>1231171548132409344</td>\n",
       "      <td>472769874482845188096</td>\n",
       "      <td>181543631801412552228864</td>\n",
       "      <td>69712754611742420055883776</td>\n",
       "      <td>26769697770909089301459369984</td>\n",
       "      <td>10279563944029090291760398073856</td>\n",
       "      <td>3947352554507170672035992860360704</td>\n",
       "      <td>1515783380930753538061821258378510336</td>\n",
       "      <td>582060818277409358615739363217347969024</td>\n",
       "      <td>265000.0</td>\n",
       "    </tr>\n",
       "    <tr>\n",
       "      <th>2228</th>\n",
       "      <td>390</td>\n",
       "      <td>152100</td>\n",
       "      <td>59319000</td>\n",
       "      <td>23134410000</td>\n",
       "      <td>9022419900000</td>\n",
       "      <td>3518743761000000</td>\n",
       "      <td>1372310066790000000</td>\n",
       "      <td>535200926048100000000</td>\n",
       "      <td>208728361158759000000000</td>\n",
       "      <td>81404060851916010000000000</td>\n",
       "      <td>31747583732247243900000000000</td>\n",
       "      <td>12381557655576425121000000000000</td>\n",
       "      <td>4828807485674805797190000000000000</td>\n",
       "      <td>1883234919413174260904100000000000000</td>\n",
       "      <td>734461618571137961752599000000000000000</td>\n",
       "      <td>228000.0</td>\n",
       "    </tr>\n",
       "    <tr>\n",
       "      <th>9631</th>\n",
       "      <td>390</td>\n",
       "      <td>152100</td>\n",
       "      <td>59319000</td>\n",
       "      <td>23134410000</td>\n",
       "      <td>9022419900000</td>\n",
       "      <td>3518743761000000</td>\n",
       "      <td>1372310066790000000</td>\n",
       "      <td>535200926048100000000</td>\n",
       "      <td>208728361158759000000000</td>\n",
       "      <td>81404060851916010000000000</td>\n",
       "      <td>31747583732247243900000000000</td>\n",
       "      <td>12381557655576425121000000000000</td>\n",
       "      <td>4828807485674805797190000000000000</td>\n",
       "      <td>1883234919413174260904100000000000000</td>\n",
       "      <td>734461618571137961752599000000000000000</td>\n",
       "      <td>245000.0</td>\n",
       "    </tr>\n",
       "  </tbody>\n",
       "</table>\n",
       "</div>"
      ],
      "text/plain": [
       "      power_1  power_2   power_3      power_4        power_5  \\\n",
       "8840      290    84100  24389000   7072810000  2051114900000   \n",
       "6982      370   136900  50653000  18741610000  6934395700000   \n",
       "8338      384   147456  56623104  21743271936  8349416423424   \n",
       "2228      390   152100  59319000  23134410000  9022419900000   \n",
       "9631      390   152100  59319000  23134410000  9022419900000   \n",
       "\n",
       "               power_6              power_7                power_8  \\\n",
       "8840   594823321000000   172498763090000000   50024641296100000000   \n",
       "6982  2565726409000000   949318771330000000  351247945392100000000   \n",
       "8338  3206175906594816  1231171548132409344  472769874482845188096   \n",
       "2228  3518743761000000  1372310066790000000  535200926048100000000   \n",
       "9631  3518743761000000  1372310066790000000  535200926048100000000   \n",
       "\n",
       "                       power_9                    power_10  \\\n",
       "8840   14507145975869000000000   4207072333002010000000000   \n",
       "6982  129961739795077000000000  48085843724178490000000000   \n",
       "8338  181543631801412552228864  69712754611742420055883776   \n",
       "2228  208728361158759000000000  81404060851916010000000000   \n",
       "9631  208728361158759000000000  81404060851916010000000000   \n",
       "\n",
       "                           power_11                          power_12  \\\n",
       "8840   1220050976570582900000000000    353814783205469041000000000000   \n",
       "6982  17791762177946041300000000000   6582952005840035281000000000000   \n",
       "8338  26769697770909089301459369984  10279563944029090291760398073856   \n",
       "2228  31747583732247243900000000000  12381557655576425121000000000000   \n",
       "9631  31747583732247243900000000000  12381557655576425121000000000000   \n",
       "\n",
       "                                power_13  \\\n",
       "8840   102606287129586021890000000000000   \n",
       "6982  2435692242160813053970000000000000   \n",
       "8338  3947352554507170672035992860360704   \n",
       "2228  4828807485674805797190000000000000   \n",
       "9631  4828807485674805797190000000000000   \n",
       "\n",
       "                                   power_14  \\\n",
       "8840    29755823267579946348100000000000000   \n",
       "6982   901206129599500829968900000000000000   \n",
       "8338  1515783380930753538061821258378510336   \n",
       "2228  1883234919413174260904100000000000000   \n",
       "9631  1883234919413174260904100000000000000   \n",
       "\n",
       "                                     power_15     price  \n",
       "8840    8629188747598184440949000000000000000  142000.0  \n",
       "6982  333446267951815307088493000000000000000  276000.0  \n",
       "8338  582060818277409358615739363217347969024  265000.0  \n",
       "2228  734461618571137961752599000000000000000  228000.0  \n",
       "9631  734461618571137961752599000000000000000  245000.0  "
      ]
     },
     "execution_count": 65,
     "metadata": {},
     "output_type": "execute_result"
    }
   ],
   "source": [
    "poly_data.head()"
   ]
  },
  {
   "cell_type": "code",
   "execution_count": null,
   "metadata": {},
   "outputs": [],
   "source": []
  },
  {
   "cell_type": "markdown",
   "metadata": {
    "collapsed": true
   },
   "source": [
    "**Answer the following questions**"
   ]
  },
  {
   "cell_type": "markdown",
   "metadata": {
    "collapsed": true
   },
   "source": [
    "**Which degree (1, 2, …, 15) had the lowest RSS on Validation data?**"
   ]
  },
  {
   "cell_type": "markdown",
   "metadata": {},
   "source": [
    "degree 7 had the lowest RSS on validation dataset which is $ 1073845840089625.625000"
   ]
  },
  {
   "cell_type": "code",
   "execution_count": null,
   "metadata": {},
   "outputs": [],
   "source": []
  },
  {
   "cell_type": "markdown",
   "metadata": {
    "collapsed": true
   },
   "source": [
    "#### A.7. Test your Final Model"
   ]
  },
  {
   "cell_type": "markdown",
   "metadata": {
    "collapsed": true
   },
   "source": [
    "Now that you have selected a degree compute the RSS on TEST data for the model with the best degree from the Validation data."
   ]
  },
  {
   "cell_type": "code",
   "execution_count": 115,
   "metadata": {},
   "outputs": [
    {
     "name": "stdout",
     "output_type": "stream",
     "text": [
      "Degree: 7, Test Data RSS: $133047309814371.046875\n"
     ]
    }
   ],
   "source": [
    "train_data = polynomial_dataframe(train_df['sqft_living'], 7)\n",
    "train_data['price'] = train_df['price'] # add price to the data since it's the target\n",
    "\n",
    "#defining X and y for train set\n",
    "X_train = train_data.drop(['price'], axis = 1) \n",
    "y_train = train_data[['price']]\n",
    "\n",
    "#building and training our model for polynomial degree 7\n",
    "linear = LinearRegression(copy_X = True, fit_intercept= True, n_jobs=1, normalize=False )\n",
    "model = linear.fit(X_train, y_train)\n",
    "\n",
    "test_data = polynomial_dataframe(test_df['sqft_living'], 7)\n",
    "test_data['price'] = test_df['price'] # add price to the data since it's the target\n",
    "\n",
    "#Defining X and y test set\n",
    "X_test = test_data.drop(['price'], axis =1)\n",
    "y_test = test_data[['price']]\n",
    "\n",
    "# First get the predictions\n",
    "y_pred = model.predict(X_test)\n",
    "\n",
    "# then we will compute the residuals (since we are squaring it doesn't matter which order we subtract)\n",
    "residuals = y_test - y_pred\n",
    "\n",
    "# square the residuals and add them up\n",
    "residuals_squared = residuals * residuals\n",
    "RSS = residuals_squared.sum()\n",
    "print(\"Degree: %s, Test Data RSS: $%.6f\" % (7, RSS))"
   ]
  },
  {
   "cell_type": "code",
   "execution_count": 117,
   "metadata": {},
   "outputs": [
    {
     "data": {
      "image/png": "[encoded data removed]",
      "text/plain": [
       "<Figure size 432x288 with 1 Axes>"
      ]
     },
     "metadata": {
      "needs_background": "light"
     },
     "output_type": "display_data"
    }
   ],
   "source": [
    "# Scatter plot of test data\n",
    "plt.plot(test_data[['power_1']], y_test,'.',\n",
    "         test_data[['power_1']],y_pred,'-')\n",
    "plt.xlabel('Square_feet')\n",
    "plt.ylabel('Price')\n",
    "plt.title('Test Data')\n",
    "plt.show()"
   ]
  },
  {
   "cell_type": "markdown",
   "metadata": {},
   "source": [
    "**what is the RSS on TEST data for the model with the degree selected from Validation data? (Make sure you got the correct degree from the previous question)**"
   ]
  },
  {
   "cell_type": "markdown",
   "metadata": {},
   "source": [
    "Degree: 7, Test Data RSS: $133047309814371.046875"
   ]
  },
  {
   "cell_type": "code",
   "execution_count": null,
   "metadata": {},
   "outputs": [],
   "source": []
  },
  {
   "cell_type": "markdown",
   "metadata": {},
   "source": [
    "### B. Fitting a Regression Tree (Example)"
   ]
  },
  {
   "cell_type": "code",
   "execution_count": 68,
   "metadata": {},
   "outputs": [],
   "source": [
    "#importing required libraries\n",
    "from sklearn.tree import DecisionTreeRegressor\n",
    "from math import sqrt\n",
    "from sklearn.metrics import r2_score"
   ]
  },
  {
   "cell_type": "code",
   "execution_count": null,
   "metadata": {},
   "outputs": [],
   "source": []
  },
  {
   "cell_type": "markdown",
   "metadata": {},
   "source": [
    "#### B.1. Fit a Decision Tree with 1 node"
   ]
  },
  {
   "cell_type": "markdown",
   "metadata": {},
   "source": [
    "Consider the variables [\"bedroom\", \"bathroom\", \"sqft_living\", \"floors\", \"grade\"] as predictors and fit a decision tree model to predict the 'price'. Note that this is a model with low bias and high variance"
   ]
  },
  {
   "cell_type": "code",
   "execution_count": 70,
   "metadata": {},
   "outputs": [],
   "source": [
    "X = data[[\"bedrooms\", \"bathrooms\", \"sqft_living\", \"floors\", \"grade\"]]\n",
    "y = data[['price']]"
   ]
  },
  {
   "cell_type": "code",
   "execution_count": 71,
   "metadata": {},
   "outputs": [],
   "source": [
    "#defining our model, keeping max_depth = 1 for node 1 decision tree\n",
    "tree = DecisionTreeRegressor(max_depth = 1, random_state = 5) "
   ]
  },
  {
   "cell_type": "code",
   "execution_count": 72,
   "metadata": {},
   "outputs": [
    {
     "data": {
      "text/plain": [
       "DecisionTreeRegressor(max_depth=1, random_state=5)"
      ]
     },
     "execution_count": 72,
     "metadata": {},
     "output_type": "execute_result"
    }
   ],
   "source": [
    "#fitting our model\n",
    "tree.fit(X,y)"
   ]
  },
  {
   "cell_type": "code",
   "execution_count": 73,
   "metadata": {},
   "outputs": [],
   "source": [
    "y_pred = tree.predict(X)"
   ]
  },
  {
   "cell_type": "code",
   "execution_count": null,
   "metadata": {},
   "outputs": [],
   "source": []
  },
  {
   "cell_type": "markdown",
   "metadata": {},
   "source": [
    "#### B.2. Fitting deeper Trees"
   ]
  },
  {
   "cell_type": "markdown",
   "metadata": {},
   "source": [
    "Consider the same variables and fit deeper and deeper decision trees on the training set and validate each trees on the validation set by coputing the RSS. Plot a graph to visualize the RSS against the Model Complexity"
   ]
  },
  {
   "cell_type": "code",
   "execution_count": 118,
   "metadata": {},
   "outputs": [
    {
     "name": "stdout",
     "output_type": "stream",
     "text": [
      "price    8.284944e+14\n",
      "dtype: float64\n",
      "price    6.702863e+14\n",
      "dtype: float64\n",
      "price    5.862998e+14\n",
      "dtype: float64\n",
      "price    5.631923e+14\n",
      "dtype: float64\n",
      "price    5.565908e+14\n",
      "dtype: float64\n",
      "price    5.627805e+14\n",
      "dtype: float64\n",
      "price    5.586238e+14\n",
      "dtype: float64\n",
      "price    5.989102e+14\n",
      "dtype: float64\n",
      "price    6.330879e+14\n",
      "dtype: float64\n",
      "price    6.819862e+14\n",
      "dtype: float64\n",
      "price    6.923845e+14\n",
      "dtype: float64\n",
      "price    7.404634e+14\n",
      "dtype: float64\n",
      "price    7.649914e+14\n",
      "dtype: float64\n",
      "price    7.864421e+14\n",
      "dtype: float64\n",
      "price    8.060850e+14\n",
      "dtype: float64\n",
      "price    8.385918e+14\n",
      "dtype: float64\n",
      "price    8.630095e+14\n",
      "dtype: float64\n",
      "price    8.657079e+14\n",
      "dtype: float64\n",
      "price    8.873177e+14\n",
      "dtype: float64\n"
     ]
    }
   ],
   "source": [
    "for i in range(1,20):\n",
    "    X_train = train_df[[\"bedrooms\", \"bathrooms\", \"sqft_living\", \"floors\", \"grade\"]]\n",
    "    y_train = train_df[['price']]\n",
    "    \n",
    "    tree = DecisionTreeRegressor(max_depth = i, random_state = 5) \n",
    "    model = tree.fit(X_train, y_train)\n",
    "\n",
    "    X_valid = valid_df[[\"bedrooms\", \"bathrooms\", \"sqft_living\", \"floors\", \"grade\"]]\n",
    "    y_valid = valid_df[['price']]\n",
    "\n",
    "    y_pred = tree.predict(X_valid)\n",
    "    prediction = y_pred.reshape(-1,1)\n",
    "\n",
    "    residual = prediction - y_valid\n",
    "    residual_square = np.square(residual)\n",
    "    RSS = residual_square.sum()\n",
    "    print(str(RSS))"
   ]
  },
  {
   "cell_type": "markdown",
   "metadata": {},
   "source": [
    "#### At node 5, RSS is minimum. So, optimum number of nodes = 5"
   ]
  },
  {
   "cell_type": "code",
   "execution_count": null,
   "metadata": {},
   "outputs": [],
   "source": []
  },
  {
   "cell_type": "markdown",
   "metadata": {},
   "source": [
    "#### B.3. Training Error Vs Validation Error"
   ]
  },
  {
   "cell_type": "markdown",
   "metadata": {},
   "source": [
    "For each of the trees fitted above calculate the training accuracy. Plot RSS(train) and RSS(validation) against model Complexity on the same graph to compare the two."
   ]
  },
  {
   "cell_type": "code",
   "execution_count": 120,
   "metadata": {},
   "outputs": [],
   "source": [
    "from sklearn.metrics import mean_squared_error as mse\n",
    "\n",
    "def mean_absolute_percentage_error(y_true, y_pred): \n",
    "    y_true, y_pred = np.array(y_true), np.array(y_pred)\n",
    "    return np.mean(np.abs((y_true - y_pred) / y_true)) * 100"
   ]
  },
  {
   "cell_type": "code",
   "execution_count": 127,
   "metadata": {},
   "outputs": [],
   "source": [
    "y_train_pred = tree.predict(X_train)\n",
    "y_train_pred = y_train_pred.reshape(-1,1)"
   ]
  },
  {
   "cell_type": "code",
   "execution_count": 128,
   "metadata": {},
   "outputs": [
    {
     "name": "stdout",
     "output_type": "stream",
     "text": [
      "Training Results for Decision Tree Regressor Model:\n",
      "Root Mean squared Error:  93961.13715272542\n",
      "Mean Absolute % Error:  13\n",
      "R-Squared:  0.9387008846608099\n"
     ]
    }
   ],
   "source": [
    "print(\"Training Results for Decision Tree Regressor Model:\")\n",
    "print(\"Root Mean squared Error: \", sqrt(mse(y_train, y_train_pred)))\n",
    "print(\"Mean Absolute % Error: \", round(mean_absolute_percentage_error(y_train, y_train_pred)))\n",
    "print(\"R-Squared: \", r2_score(y_train, y_train_pred))"
   ]
  },
  {
   "cell_type": "code",
   "execution_count": 129,
   "metadata": {},
   "outputs": [
    {
     "name": "stdout",
     "output_type": "stream",
     "text": [
      "Validation Results for Decision Tree Regressor Model:\n",
      "Root Mean squared Error:  303468.558799023\n",
      "Mean Absolute % Error:  36\n",
      "R-Squared:  0.2740390672594697\n"
     ]
    }
   ],
   "source": [
    "print(\"Validation Results for Decision Tree Regressor Model:\")\n",
    "print(\"Root Mean squared Error: \", sqrt(mse(y_valid, prediction)))\n",
    "print(\"Mean Absolute % Error: \", round(mean_absolute_percentage_error(y_valid, prediction)))\n",
    "print(\"R-Squared: \", r2_score(y_valid, prediction))"
   ]
  },
  {
   "cell_type": "markdown",
   "metadata": {},
   "source": [
    "We can see from the above that there is a huge difference between Mean absolute % error of Training set and Validation set."
   ]
  },
  {
   "cell_type": "code",
   "execution_count": null,
   "metadata": {},
   "outputs": [],
   "source": []
  },
  {
   "cell_type": "markdown",
   "metadata": {},
   "source": [
    "#### B.4. Further Experiments"
   ]
  },
  {
   "cell_type": "markdown",
   "metadata": {},
   "source": [
    "For a fixed depth, include more and more variables and repeat step B.2. What would you expect to happen. Perform the experiment and validate your hypotheses."
   ]
  },
  {
   "cell_type": "code",
   "execution_count": null,
   "metadata": {},
   "outputs": [],
   "source": [
    "#fixing depth = 5, RSS = 5.565908e+14 at node 5"
   ]
  },
  {
   "cell_type": "code",
   "execution_count": null,
   "metadata": {},
   "outputs": [],
   "source": [
    "#Hypotheses: By adding more variables RSS will decrease at first then after a certain point it shouldn't change much."
   ]
  },
  {
   "cell_type": "code",
   "execution_count": 109,
   "metadata": {},
   "outputs": [
    {
     "name": "stdout",
     "output_type": "stream",
     "text": [
      "price    4.853990e+14\n",
      "dtype: float64\n"
     ]
    }
   ],
   "source": [
    "X_train = train_df[[\"bedrooms\", \"bathrooms\", \"sqft_living\", \"floors\", \"grade\",\"yr_built\"]]  #adding year built\n",
    "y_train = train_df[['price']]\n",
    "    \n",
    "tree = DecisionTreeRegressor(max_depth = 5, random_state = 5) \n",
    "model = tree.fit(X_train, y_train)\n",
    "\n",
    "X_valid = valid_df[[\"bedrooms\", \"bathrooms\", \"sqft_living\", \"floors\", \"grade\", \"yr_built\"]]\n",
    "y_valid = valid_df[['price']]\n",
    "\n",
    "y_pred = tree.predict(X_valid)\n",
    "prediction = y_pred.reshape(-1,1)\n",
    "\n",
    "residual = prediction - y_valid\n",
    "residual_square = np.square(residual)\n",
    "RSS = residual_square.sum()\n",
    "print(str(RSS))"
   ]
  },
  {
   "cell_type": "code",
   "execution_count": 110,
   "metadata": {},
   "outputs": [
    {
     "name": "stdout",
     "output_type": "stream",
     "text": [
      "price    4.906843e+14\n",
      "dtype: float64\n"
     ]
    }
   ],
   "source": [
    "#in the same function above adding square lot\n",
    "X_train = train_df[[\"bedrooms\", \"bathrooms\", \"sqft_living\", \"floors\", \"grade\",\"yr_built\", \"sqft_lot\"]]\n",
    "y_train = train_df[['price']]\n",
    "    \n",
    "tree = DecisionTreeRegressor(max_depth = 5, random_state = 5) \n",
    "model = tree.fit(X_train, y_train)\n",
    "\n",
    "X_valid = valid_df[[\"bedrooms\", \"bathrooms\", \"sqft_living\", \"floors\", \"grade\", \"yr_built\",\"sqft_lot\"]]\n",
    "y_valid = valid_df[['price']]\n",
    "\n",
    "y_pred = tree.predict(X_valid)\n",
    "prediction = y_pred.reshape(-1,1)\n",
    "\n",
    "residual = prediction - y_valid\n",
    "residual_square = np.square(residual)\n",
    "RSS = residual_square.sum()\n",
    "print(str(RSS))"
   ]
  },
  {
   "cell_type": "code",
   "execution_count": 111,
   "metadata": {},
   "outputs": [
    {
     "name": "stdout",
     "output_type": "stream",
     "text": [
      "price    4.903958e+14\n",
      "dtype: float64\n"
     ]
    }
   ],
   "source": [
    "#in the same function above adding square feet living 15\n",
    "X_train = train_df[[\"bedrooms\", \"bathrooms\", \"sqft_living\", \"floors\", \"grade\",\"yr_built\", \"sqft_lot\",\"sqft_living15\"]]\n",
    "y_train = train_df[['price']]\n",
    "    \n",
    "tree = DecisionTreeRegressor(max_depth = 5, random_state = 5) \n",
    "model = tree.fit(X_train, y_train)\n",
    "\n",
    "X_valid = valid_df[[\"bedrooms\", \"bathrooms\", \"sqft_living\", \"floors\", \"grade\", \"yr_built\",\"sqft_lot\",\"sqft_living15\"]]\n",
    "y_valid = valid_df[['price']]\n",
    "\n",
    "y_pred = tree.predict(X_valid)\n",
    "prediction = y_pred.reshape(-1,1)\n",
    "\n",
    "residual = prediction - y_valid\n",
    "residual_square = np.square(residual)\n",
    "RSS = residual_square.sum()\n",
    "print(str(RSS))"
   ]
  },
  {
   "cell_type": "code",
   "execution_count": 112,
   "metadata": {},
   "outputs": [
    {
     "name": "stdout",
     "output_type": "stream",
     "text": [
      "price    4.726822e+14\n",
      "dtype: float64\n"
     ]
    }
   ],
   "source": [
    "#in the same function above adding condition\n",
    "X_train = train_df[[\"bedrooms\", \"bathrooms\", \"sqft_living\", \"floors\", \"grade\",\"yr_built\", \"sqft_lot\",\"sqft_living15\",\"condition\"]]\n",
    "y_train = train_df[['price']]\n",
    "    \n",
    "tree = DecisionTreeRegressor(max_depth = 5, random_state = 5) \n",
    "model = tree.fit(X_train, y_train)\n",
    "\n",
    "X_valid = valid_df[[\"bedrooms\", \"bathrooms\", \"sqft_living\", \"floors\", \"grade\", \"yr_built\",\"sqft_lot\",\"sqft_living15\",\"condition\"]]\n",
    "y_valid = valid_df[['price']]\n",
    "\n",
    "y_pred = tree.predict(X_valid)\n",
    "prediction = y_pred.reshape(-1,1)\n",
    "\n",
    "residual = prediction - y_valid\n",
    "residual_square = np.square(residual)\n",
    "RSS = residual_square.sum()\n",
    "print(str(RSS))"
   ]
  },
  {
   "cell_type": "markdown",
   "metadata": {},
   "source": [
    "As we can see that after adding more and more variables to the model, RSS decrease to 4.8 from 5.5 but after that there is only slighest change in RSS like 4.9, 4.7. That may be coz we already took features that were important for prediction."
   ]
  },
  {
   "cell_type": "code",
   "execution_count": null,
   "metadata": {},
   "outputs": [],
   "source": []
  },
  {
   "cell_type": "code",
   "execution_count": null,
   "metadata": {},
   "outputs": [],
   "source": []
  }
 ],
 "metadata": {
  "kernelspec": {
   "display_name": "Python 3",
   "language": "python",
   "name": "python3"
  },
  "language_info": {
   "codemirror_mode": {
    "name": "ipython",
    "version": 3
   },
   "file_extension": ".py",
   "mimetype": "text/x-python",
   "name": "python",
   "nbconvert_exporter": "python",
   "pygments_lexer": "ipython3",
   "version": "3.8.5"
  }
 },
 "nbformat": 4,
 "nbformat_minor": 2
}
